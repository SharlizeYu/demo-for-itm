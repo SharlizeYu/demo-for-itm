{
 "cells": [
  {
   "cell_type": "code",
   "execution_count": 34,
   "id": "bdb744aa-03c4-40de-89c9-ab22bac29036",
   "metadata": {},
   "outputs": [],
   "source": [
    "from urllib.request import urlopen\n",
    "url = \"https://www.gutenberg.org/cache/epub/10/pg10.txt\"\n",
    "with urlopen(url) as website:\n",
    "    pg10 = website.read().decode(\"utf-8\")"
   ]
  },
  {
   "cell_type": "code",
   "execution_count": 35,
   "id": "cb247ff6-a668-4b0b-963e-9d428e46eb06",
   "metadata": {},
   "outputs": [
    {
     "name": "stdout",
     "output_type": "stream",
     "text": [
      "1. The string has 99968 lines.\n"
     ]
    }
   ],
   "source": [
    "line_count = 0\n",
    "for character in pg10:\n",
    "    if character == '\\n':\n",
    "        line_count = line_count + 1\n",
    "print(\"1. The string has \" + str(line_count) + \" lines.\")"
   ]
  },
  {
   "cell_type": "code",
   "execution_count": 36,
   "id": "775f35f2-30b8-411a-84c8-b4d4fd4cd71e",
   "metadata": {},
   "outputs": [
    {
     "name": "stdout",
     "output_type": "stream",
     "text": [
      "2. The string has 795227 words.\n"
     ]
    }
   ],
   "source": [
    "words = []\n",
    "current_word = \"\"\n",
    "for char in pg10:\n",
    "    if char.isalpha():\n",
    "        current_word = current_word + char\n",
    "    else:\n",
    "        if current_word != \"\":\n",
    "            words.append(current_word)\n",
    "            current_word = \"\"\n",
    "if current_word != \"\":\n",
    "    words.append(current_word)\n",
    "print(\"2. The string has \" + str(len(words)) + \" words.\")"
   ]
  },
  {
   "cell_type": "code",
   "execution_count": 37,
   "id": "16d8b193-2dbe-41db-94c9-a38220f9cd5c",
   "metadata": {},
   "outputs": [
    {
     "name": "stdout",
     "output_type": "stream",
     "text": [
      "3. The word 'apostle' appears 47 times in the string.\n"
     ]
    }
   ],
   "source": [
    "apostle_count = 0\n",
    "for word in words:\n",
    "    if word.lower() == \"apostle\":\n",
    "        apostle_count = apostle_count + 1\n",
    "print(\"3. The word 'apostle' appears \" + str(apostle_count) + \" times in the string.\")"
   ]
  },
  {
   "cell_type": "code",
   "execution_count": 38,
   "id": "d92c098f-6400-422c-b025-09aa3abb6357",
   "metadata": {},
   "outputs": [
    {
     "name": "stdout",
     "output_type": "stream",
     "text": [
      "4. The most common word is 'the'.\n"
     ]
    }
   ],
   "source": [
    "word_counts = {}\n",
    "for word in words:\n",
    "    lower_word = word.lower()\n",
    "    if lower_word in word_counts:\n",
    "        word_counts[lower_word] = word_counts[lower_word] + 1\n",
    "    else:\n",
    "        word_counts[lower_word] = 1\n",
    "\n",
    "most_common = \"\"\n",
    "highest_count = 0\n",
    "for word in word_counts:\n",
    "    if word_counts[word] > highest_count:\n",
    "        highest_count = word_counts[word]\n",
    "        most_common = word\n",
    "\n",
    "print(\"4. The most common word is '\" + most_common + \"'.\")"
   ]
  },
  {
   "cell_type": "code",
   "execution_count": null,
   "id": "45442517-c697-442e-a8b1-01f12f9e9852",
   "metadata": {},
   "outputs": [],
   "source": []
  }
 ],
 "metadata": {
  "kernelspec": {
   "display_name": "Python [conda env:base] *",
   "language": "python",
   "name": "conda-base-py"
  },
  "language_info": {
   "codemirror_mode": {
    "name": "ipython",
    "version": 3
   },
   "file_extension": ".py",
   "mimetype": "text/x-python",
   "name": "python",
   "nbconvert_exporter": "python",
   "pygments_lexer": "ipython3",
   "version": "3.12.7"
  }
 },
 "nbformat": 4,
 "nbformat_minor": 5
}
